{
  "nbformat": 4,
  "nbformat_minor": 0,
  "metadata": {
    "colab": {
      "provenance": []
    },
    "kernelspec": {
      "name": "python3",
      "display_name": "Python 3"
    },
    "language_info": {
      "name": "python"
    }
  },
  "cells": [
    {
      "cell_type": "markdown",
      "source": [
        "# Exercise: Array DataStructure\n",
        "\n",
        "1. Let us say your expense for every month are listed below,\n",
        "\t1. January -  2200\n",
        " \t2. February - 2350\n",
        "    3. March - 2600\n",
        "    4. April - 2130\n",
        "    5. May - 2190\n",
        "\n",
        "Create a list to store these monthly expenses and using that find out,\n",
        "\n",
        "    1. In Feb, how many dollars you spent extra compare to January?\n",
        "    2. Find out your total expense in first quarter (first three months) of the year.\n",
        "    3. Find out if you spent exactly 2000 dollars in any month\n",
        "    4. June month just finished and your expense is 1980 dollar. Add this item to our monthly expense list\n",
        "    5. You returned an item that you bought in a month of April and\n",
        "    got a refund of 200$. Make a correction to your monthly expense list\n",
        "    based on this"
      ],
      "metadata": {
        "id": "178-k7x8dqNO"
      }
    },
    {
      "cell_type": "code",
      "source": [
        "expenses = [2200, 2350, 2600, 2130, 2190]"
      ],
      "metadata": {
        "id": "VcEvrxE4dhwT"
      },
      "execution_count": 3,
      "outputs": []
    },
    {
      "cell_type": "code",
      "source": [
        "#1\n",
        "x = expenses[0]\n",
        "y = expenses[1]\n",
        "z = y-x\n",
        "print(z)"
      ],
      "metadata": {
        "colab": {
          "base_uri": "https://localhost:8080/"
        },
        "id": "8MSep3ZQu7to",
        "outputId": "ddbbd29a-da4b-44ff-c9ff-9d666889337d"
      },
      "execution_count": 14,
      "outputs": [
        {
          "output_type": "stream",
          "name": "stdout",
          "text": [
            "150\n"
          ]
        }
      ]
    },
    {
      "cell_type": "code",
      "source": [
        "#2\n",
        "z = expenses[2]\n",
        "a = x + y+ z\n",
        "print(a)"
      ],
      "metadata": {
        "colab": {
          "base_uri": "https://localhost:8080/"
        },
        "id": "kH-8PIfxv0tU",
        "outputId": "7997f597-d243-426a-c73d-93bbe3e23e6a"
      },
      "execution_count": 12,
      "outputs": [
        {
          "output_type": "stream",
          "name": "stdout",
          "text": [
            "7150\n"
          ]
        }
      ]
    },
    {
      "cell_type": "code",
      "source": [
        "#3\n",
        "for x in range(len(expenses)):\n",
        "  if expenses[x] == 2000:\n",
        "    print(x)\n",
        "\n",
        "  else:\n",
        "    print(\"No\")"
      ],
      "metadata": {
        "colab": {
          "base_uri": "https://localhost:8080/"
        },
        "id": "Xb1kbcZRwL-t",
        "outputId": "482a22db-4d44-463c-b146-7f240e1021d8"
      },
      "execution_count": 18,
      "outputs": [
        {
          "output_type": "stream",
          "name": "stdout",
          "text": [
            "No\n",
            "No\n",
            "No\n",
            "No\n",
            "No\n"
          ]
        }
      ]
    },
    {
      "cell_type": "code",
      "source": [
        "#4\n",
        "expenses.append(1980)\n",
        "print(expenses)"
      ],
      "metadata": {
        "colab": {
          "base_uri": "https://localhost:8080/"
        },
        "id": "T3GosYFdxDv8",
        "outputId": "56c53d45-fa1a-4bad-b182-19d28aa406b0"
      },
      "execution_count": 30,
      "outputs": [
        {
          "output_type": "stream",
          "name": "stdout",
          "text": [
            "[2200, 2350, 2600, 2130, 2190, 1980]\n"
          ]
        }
      ]
    },
    {
      "cell_type": "code",
      "source": [
        "#5\n",
        "april = expenses[3]\n",
        "april -= 200\n",
        "print(april)"
      ],
      "metadata": {
        "colab": {
          "base_uri": "https://localhost:8080/"
        },
        "id": "eHs6yDcwx9V8",
        "outputId": "520650ee-00bc-47e1-8862-0c91b70a4e54"
      },
      "execution_count": 31,
      "outputs": [
        {
          "output_type": "stream",
          "name": "stdout",
          "text": [
            "1930\n"
          ]
        }
      ]
    },
    {
      "cell_type": "markdown",
      "source": [
        "2. You have a list of your favourite marvel super heros.\n",
        "```\n",
        "heros=['spider man','thor','hulk','iron man','captain america']\n",
        "```\n",
        "\n",
        "Using this find out,\n",
        "\n",
        "    1. Length of the list\n",
        "    2. Add 'black panther' at the end of this list\n",
        "    3. You realize that you need to add 'black panther' after 'hulk',\n",
        "       so remove it from the list first and then add it after 'hulk'\n",
        "    4. Now you don't like thor and hulk because they get angry easily :)\n",
        "       So you want to remove thor and hulk from list and replace them with doctor strange (because he is cool).\n",
        "       Do that with one line of code.\n",
        "    5. Sort the heros list in alphabetical order (Hint. Use dir() functions to list down all functions available in list)\n"
      ],
      "metadata": {
        "id": "7TEYr3D42oA8"
      }
    },
    {
      "cell_type": "code",
      "source": [
        "heros=['spider man','thor','hulk','iron man','captain america']"
      ],
      "metadata": {
        "id": "OiHtg34P2pth"
      },
      "execution_count": 47,
      "outputs": []
    },
    {
      "cell_type": "code",
      "source": [
        "length = len(heros)\n",
        "print(length)"
      ],
      "metadata": {
        "colab": {
          "base_uri": "https://localhost:8080/"
        },
        "id": "Gxag5aq52wTx",
        "outputId": "9ab99ae1-2d0b-4aa1-a08f-432bf8b18735"
      },
      "execution_count": 48,
      "outputs": [
        {
          "output_type": "stream",
          "name": "stdout",
          "text": [
            "5\n"
          ]
        }
      ]
    },
    {
      "cell_type": "code",
      "source": [
        "heros.append(\"Black panther\")\n",
        "print(heros)"
      ],
      "metadata": {
        "colab": {
          "base_uri": "https://localhost:8080/"
        },
        "id": "OSMUZa4T26kV",
        "outputId": "cd30c8b1-2fbc-4a7e-ee1d-a441d2493ea6"
      },
      "execution_count": 49,
      "outputs": [
        {
          "output_type": "stream",
          "name": "stdout",
          "text": [
            "['spider man', 'thor', 'hulk', 'iron man', 'captain america', 'Black panther']\n"
          ]
        }
      ]
    },
    {
      "cell_type": "code",
      "source": [
        "heros.pop(-1)\n",
        "heros.pop(2)\n",
        "heros.insert(2, \"hulk\")\n",
        "heros.insert(3, \"black panther\")\n",
        "print(heros)"
      ],
      "metadata": {
        "colab": {
          "base_uri": "https://localhost:8080/"
        },
        "id": "cdCK6ppw3AlT",
        "outputId": "3d56c6c4-3663-4a56-ce58-b8d42eba24e9"
      },
      "execution_count": 50,
      "outputs": [
        {
          "output_type": "stream",
          "name": "stdout",
          "text": [
            "['spider man', 'thor', 'hulk', 'black panther', 'iron man', 'captain america']\n"
          ]
        }
      ]
    },
    {
      "cell_type": "code",
      "source": [
        "heros[1:3] = [\"doctor strange\"]"
      ],
      "metadata": {
        "id": "vctv-RzG5RpS"
      },
      "execution_count": 51,
      "outputs": []
    },
    {
      "cell_type": "code",
      "source": [
        "heros.sort()\n",
        "print(heros)"
      ],
      "metadata": {
        "colab": {
          "base_uri": "https://localhost:8080/"
        },
        "id": "8HjscIx73UXK",
        "outputId": "94e167fe-1f9d-458d-fe5e-4030cd495d5a"
      },
      "execution_count": 52,
      "outputs": [
        {
          "output_type": "stream",
          "name": "stdout",
          "text": [
            "['black panther', 'captain america', 'doctor strange', 'iron man', 'spider man']\n"
          ]
        }
      ]
    },
    {
      "cell_type": "markdown",
      "source": [
        "3. Create a list of all odd numbers between 1 and a max number.\n",
        "Max number is something you need to take from a user using input() function\n"
      ],
      "metadata": {
        "id": "NtYdBW4A5q_D"
      }
    },
    {
      "cell_type": "code",
      "source": [
        "maxnum = int(input(\"Enter maximum number:\"))\n",
        "print(\"Max number is: \", maxnum)"
      ],
      "metadata": {
        "colab": {
          "base_uri": "https://localhost:8080/"
        },
        "id": "ud8ttwVJ5uEp",
        "outputId": "24318af8-aae7-4542-c353-ac3535e5e293"
      },
      "execution_count": 78,
      "outputs": [
        {
          "output_type": "stream",
          "name": "stdout",
          "text": [
            "Enter maximum number:18\n",
            "Max number is:  18\n"
          ]
        }
      ]
    },
    {
      "cell_type": "code",
      "source": [
        "maxarray = []\n",
        "\n",
        "if maxnum % 2 == 1:\n",
        "  maxnum+=1\n",
        "\n",
        "for x in range(1, maxnum):\n",
        "  if x % 2 ==1:\n",
        "    maxarray.append(x)\n",
        "\n",
        "print(maxarray)"
      ],
      "metadata": {
        "colab": {
          "base_uri": "https://localhost:8080/"
        },
        "id": "yriVdLMc6s8l",
        "outputId": "02a582c1-afda-43fc-93fc-8a46c5e5732c"
      },
      "execution_count": 80,
      "outputs": [
        {
          "output_type": "stream",
          "name": "stdout",
          "text": [
            "[1, 3, 5, 7, 9, 11, 13, 15, 17]\n"
          ]
        }
      ]
    },
    {
      "cell_type": "code",
      "source": [],
      "metadata": {
        "id": "aBIX-gIt94wr"
      },
      "execution_count": 79,
      "outputs": []
    }
  ]
}